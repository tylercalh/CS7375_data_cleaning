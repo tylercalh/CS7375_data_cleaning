{
 "cells": [
  {
   "cell_type": "code",
   "execution_count": 262,
   "metadata": {},
   "outputs": [
    {
     "data": {
      "text/html": [
       "<div>\n",
       "<style scoped>\n",
       "    .dataframe tbody tr th:only-of-type {\n",
       "        vertical-align: middle;\n",
       "    }\n",
       "\n",
       "    .dataframe tbody tr th {\n",
       "        vertical-align: top;\n",
       "    }\n",
       "\n",
       "    .dataframe thead th {\n",
       "        text-align: right;\n",
       "    }\n",
       "</style>\n",
       "<table border=\"1\" class=\"dataframe\">\n",
       "  <thead>\n",
       "    <tr style=\"text-align: right;\">\n",
       "      <th></th>\n",
       "      <th>Scientific Name</th>\n",
       "      <th>Habitat Comments</th>\n",
       "    </tr>\n",
       "  </thead>\n",
       "  <tbody>\n",
       "    <tr>\n",
       "      <th>0</th>\n",
       "      <td>Acris crepitans</td>\n",
       "      <td>This species inhabits the edges of sunny marsh...</td>\n",
       "    </tr>\n",
       "    <tr>\n",
       "      <th>1</th>\n",
       "      <td>Acris gryllus</td>\n",
       "      <td>Grassy margins of swamps, marshes, lakes, pond...</td>\n",
       "    </tr>\n",
       "    <tr>\n",
       "      <th>2</th>\n",
       "      <td>Ambystoma bishopi</td>\n",
       "      <td>The following information pertains to the &lt;i&gt;A...</td>\n",
       "    </tr>\n",
       "    <tr>\n",
       "      <th>3</th>\n",
       "      <td>Ambystoma cingulatum</td>\n",
       "      <td>The following information pertains to the &lt;i&gt;A...</td>\n",
       "    </tr>\n",
       "    <tr>\n",
       "      <th>4</th>\n",
       "      <td>Ambystoma maculatum</td>\n",
       "      <td>Spotted salamanders inhabit hardwood and mixed...</td>\n",
       "    </tr>\n",
       "  </tbody>\n",
       "</table>\n",
       "</div>"
      ],
      "text/plain": [
       "        Scientific Name                                   Habitat Comments\n",
       "0       Acris crepitans  This species inhabits the edges of sunny marsh...\n",
       "1         Acris gryllus  Grassy margins of swamps, marshes, lakes, pond...\n",
       "2     Ambystoma bishopi  The following information pertains to the <i>A...\n",
       "3  Ambystoma cingulatum  The following information pertains to the <i>A...\n",
       "4   Ambystoma maculatum  Spotted salamanders inhabit hardwood and mixed..."
      ]
     },
     "execution_count": 262,
     "metadata": {},
     "output_type": "execute_result"
    }
   ],
   "source": [
    "import pandas as pd\n",
    "\n",
    "data_path = 'data.csv'\n",
    "df = pd.read_csv(data_path, header=0)\n",
    "df['Habitat Comments'] = df['Habitat Comments'].transform(lambda x: str(x))\n",
    "df.head()"
   ]
  },
  {
   "cell_type": "code",
   "execution_count": 263,
   "metadata": {},
   "outputs": [
    {
     "name": "stderr",
     "output_type": "stream",
     "text": [
      "[nltk_data] Downloading package stopwords to\n",
      "[nltk_data]     /Users/tylercalhoun/nltk_data...\n",
      "[nltk_data]   Package stopwords is already up-to-date!\n",
      "[nltk_data] Downloading package averaged_perceptron_tagger to\n",
      "[nltk_data]     /Users/tylercalhoun/nltk_data...\n",
      "[nltk_data]   Package averaged_perceptron_tagger is already up-to-\n",
      "[nltk_data]       date!\n"
     ]
    }
   ],
   "source": [
    "from bs4 import BeautifulSoup\n",
    "import nltk\n",
    "nltk.download('stopwords')\n",
    "nltk.download('averaged_perceptron_tagger')\n",
    "stop_words = set(nltk.corpus.stopwords.words('english'))"
   ]
  },
  {
   "cell_type": "code",
   "execution_count": null,
   "metadata": {},
   "outputs": [
    {
     "name": "stderr",
     "output_type": "stream",
     "text": [
      "/var/folders/4g/f40100m54vv61sk0l2swg3jc0000gn/T/ipykernel_87059/3251580920.py:15: MarkupResemblesLocatorWarning: The input looks more like a filename than markup. You may want to open this file and pass the filehandle into Beautiful Soup.\n",
      "  df['Habitat Comments'] = df['Habitat Comments'].transform(lambda x: BeautifulSoup(x, 'html.parser').text)\n"
     ]
    },
    {
     "data": {
      "text/plain": [
       "0    {edge, marsh, ditch, site, Hibernation, Trauth...\n",
       "1    {shade, marsh, ditch, excessive, habitat, swam...\n",
       "2    {swamp, baldwinii, Magnolia, Harper, 9, Larvae...\n",
       "3    {swamp, baldwinii, Magnolia, Harper, 9, Larvae...\n",
       "4    {burrow, period, stump, swamp, breeding, verna...\n",
       "Name: Habitat Comments, dtype: object"
      ]
     },
     "execution_count": 264,
     "metadata": {},
     "output_type": "execute_result"
    }
   ],
   "source": [
    "def remove_stopwords(habitat_comment):\n",
    "    tokens = nltk.RegexpTokenizer(r'\\w+').tokenize(habitat_comment)\n",
    "    no_stops = [w for w in tokens if not w.lower() in stop_words]\n",
    "    return no_stops\n",
    "\n",
    "def remove_not_nouns(habitat_comment):\n",
    "    tagged = nltk.tag.pos_tag(habitat_comment)\n",
    "    return [w for w, pos in tagged if pos.startswith('N')]\n",
    "\n",
    "def lemmatize_comment(comment):\n",
    "    lemmatizer = nltk.stem.WordNetLemmatizer()\n",
    "    lemmatized = [lemmatizer.lemmatize(w) for w in comment]\n",
    "    return lemmatized\n",
    "\n",
    "df['Habitat Comments'] = df['Habitat Comments'].transform(lambda x: BeautifulSoup(x, 'html.parser').text)\n",
    "df['Habitat Comments'] = df['Habitat Comments'].transform(lambda x: remove_stopwords(x))\n",
    "df['Habitat Comments'] = df['Habitat Comments'].transform(lambda x: lemmatize_comment(x))\n",
    "df['Habitat Comments'] = df['Habitat Comments'].transform(lambda x: set(x))\n",
    "\n",
    "df['Habitat Comments'].head()"
   ]
  },
  {
   "cell_type": "code",
   "execution_count": null,
   "metadata": {},
   "outputs": [
    {
     "data": {
      "text/plain": [
       "0    [0, 0, 0, 0, 0, 0, 0, 0, 0, 0, 0, 0, 0, 0, 0, ...\n",
       "1    [0, 0, 0, 0, 0, 0, 0, 0, 0, 0, 1, 0, 0, 0, 0, ...\n",
       "2    [0, 0, 0, 0, 0, 0, 0, 0, 0, 0, 0, 0, 0, 0, 0, ...\n",
       "3    [0, 0, 0, 0, 0, 0, 0, 0, 0, 0, 0, 0, 0, 0, 0, ...\n",
       "4    [0, 0, 0, 0, 0, 0, 0, 0, 0, 0, 1, 0, 0, 0, 0, ...\n",
       "Name: Habitat Comments, dtype: object"
      ]
     },
     "execution_count": 265,
     "metadata": {},
     "output_type": "execute_result"
    }
   ],
   "source": [
    "def incidence_vector(words, habitats):\n",
    "    incidence = [0] * len(habitats)\n",
    "    for i, habitat in enumerate(habitats):\n",
    "        for word in words:\n",
    "            if word == habitat:\n",
    "                incidence[i] = 1\n",
    "    return incidence\n",
    "\n",
    "with open(\"habitats.txt\", \"r\") as file:\n",
    "    habitats = file.read()\n",
    "    habitats = habitats.split()\n",
    "    \n",
    "    df['Habitat Comments'] = df['Habitat Comments'].transform(lambda x: incidence_vector(x, habitats))\n",
    "   \n",
    "    file.close()\n",
    "\n",
    "df['Habitat Comments'].head()\n"
   ]
  },
  {
   "cell_type": "code",
   "execution_count": 267,
   "metadata": {},
   "outputs": [],
   "source": [
    "df.to_csv(\"habitat_comments.csv\")"
   ]
  }
 ],
 "metadata": {
  "kernelspec": {
   "display_name": "venv",
   "language": "python",
   "name": "python3"
  },
  "language_info": {
   "codemirror_mode": {
    "name": "ipython",
    "version": 3
   },
   "file_extension": ".py",
   "mimetype": "text/x-python",
   "name": "python",
   "nbconvert_exporter": "python",
   "pygments_lexer": "ipython3",
   "version": "3.9.6"
  }
 },
 "nbformat": 4,
 "nbformat_minor": 2
}
